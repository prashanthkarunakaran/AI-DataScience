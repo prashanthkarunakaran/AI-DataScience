{
  "nbformat": 4,
  "nbformat_minor": 0,
  "metadata": {
    "kernelspec": {
      "display_name": "Python 3",
      "language": "python",
      "name": "python3"
    },
    "language_info": {
      "codemirror_mode": {
        "name": "ipython",
        "version": 3
      },
      "file_extension": ".py",
      "mimetype": "text/x-python",
      "name": "python",
      "nbconvert_exporter": "python",
      "pygments_lexer": "ipython3",
      "version": "3.8.9"
    },
    "colab": {
      "provenance": []
    }
  },
  "cells": [
    {
      "cell_type": "markdown",
      "metadata": {
        "id": "dt7PU_BRm0h1"
      },
      "source": [
        "Pixeltests School Data Science\n",
        "\n",
        "*Unit 2, Sprint 2, Module 3*\n",
        "\n",
        "---\n",
        "<p style=\"padding: 10px; border: 2px solid red;\">\n",
        "    <b>Before you start:</b> Today is the day you should submit the dataset for your Unit 2 Build Week project. You can review the guidelines and make your submission in the Build Week course for your cohort on Canvas.</p>"
      ]
    },
    {
      "cell_type": "code",
      "metadata": {
        "id": "zLJrqUbKm0h3"
      },
      "source": [
        "%%capture\n",
        "import sys\n",
        "\n",
        "# If you're on Colab:\n",
        "if 'google.colab' in sys.modules:\n",
        "    DATA_PATH = 'https://raw.githubusercontent.com/pixeltests/datasets/main/' #You might not need this, use the data from Kaggle directly!\n",
        "    !pip install category_encoders==2.*\n",
        "    !pip install pandas-profiling==2.*\n",
        "\n",
        "# If you're working locally:\n",
        "else:\n",
        "    DATA_PATH = '../data/'"
      ],
      "execution_count": 1,
      "outputs": []
    },
    {
      "cell_type": "markdown",
      "metadata": {
        "id": "EvgUujPKm0h4"
      },
      "source": [
        "# Module Project: Hyperparameter Tuning\n",
        "\n",
        "This sprint, the module projects will focus on creating and improving a model for the Tanazania Water Pump dataset. Your goal is to create a model to predict whether a water pump is functional, non-functional, or needs repair.\n",
        "\n",
        "Dataset source: [DrivenData.org](https://www.drivendata.org/competitions/7/pump-it-up-data-mining-the-water-table/).\n",
        "\n",
        "## Directions\n",
        "\n",
        "- **Task 0:** Enter the [Kaggle](https://www.kaggle.com/t/6169ee7701164d24943c98eda2de9b5e) competition using exactly this link!\n",
        "The tasks for this project are as follows:\n",
        "\n",
        "- **Task 1:** Use `wrangle` function to import training and test data.\n",
        "- **Task 2:** Split training data into feature matrix `X` and target vector `y`.\n",
        "- **Task 3:** Establish the baseline accuracy score for your dataset.\n",
        "- **Task 4:** Build `clf_dt`.\n",
        "- **Task 5:** Build `clf_rf`.\n",
        "- **Task 6:** Evaluate classifiers using k-fold cross-validation.\n",
        "- **Task 7:** Tune hyperparameters for best performing classifier.\n",
        "- **Task 8:** Print out best score and params for model.\n",
        "- **Task 9:** Create `submission.csv` and upload to Kaggle.\n",
        "\n",
        "You should limit yourself to the following libraries for this project:\n",
        "\n",
        "- `category_encoders`\n",
        "- `matplotlib`\n",
        "- `pandas`\n",
        "- `pandas-profiling`\n",
        "- `sklearn`\n",
        "\n",
        "# I. Wrangle Data"
      ]
    },
    {
      "cell_type": "code",
      "source": [
        "from google.colab import drive\n",
        "drive.mount('/content/drive')"
      ],
      "metadata": {
        "id": "NtJ3-5jWkyap",
        "outputId": "94d55bf6-fdba-4e2c-c15e-24e402e3a775",
        "colab": {
          "base_uri": "https://localhost:8080/"
        }
      },
      "execution_count": 2,
      "outputs": [
        {
          "output_type": "stream",
          "name": "stdout",
          "text": [
            "Mounted at /content/drive\n"
          ]
        }
      ]
    },
    {
      "cell_type": "code",
      "source": [
        "def wrangle(fm_path, tv_path=None):\n",
        "    if tv_path:\n",
        "        df = pd.concat([pd.read_csv(fm_path,\n",
        "                                  na_values=[0, -2.000000e-08]),\n",
        "                      pd.read_csv(tv_path)],axis=1)\n",
        "        df.drop('id',inplace=True,axis=1)\n",
        "    else:\n",
        "        df = pd.read_csv(fm_path,\n",
        "                         na_values=[0, -2.000000e-08],\n",
        "                         index_col='id')\n",
        "\n",
        "    # Drop constant columns\n",
        "    df.drop(columns=['recorded_by'], inplace=True)\n",
        "\n",
        "    # Drop HCCCs\n",
        "    cutoff = 100\n",
        "    drop_cols = [col for col in df.select_dtypes('object').columns\n",
        "                 if df[col].nunique() > cutoff]\n",
        "    df.drop(columns=drop_cols, inplace=True)\n",
        "\n",
        "    # Drop duplicate columns\n",
        "    dupe_cols = [col for col in df.head(15).T.duplicated().index\n",
        "                 if df.head(15).T.duplicated()[col]]\n",
        "    df.drop(columns=dupe_cols, inplace=True)\n",
        "\n",
        "    return df"
      ],
      "metadata": {
        "id": "EB2MY-3klDEj"
      },
      "execution_count": 17,
      "outputs": []
    },
    {
      "cell_type": "code",
      "source": [
        "fm_path = '/content/drive/MyDrive/Tanzania_Data_Set/train_features.csv'\n",
        "tv_path = '/content/drive/MyDrive/Tanzania_Data_Set/train_labels.csv'\n",
        "test_path = '/content/drive/MyDrive/Tanzania_Data_Set/test_features.csv'"
      ],
      "metadata": {
        "id": "CLItK9lqlJuU"
      },
      "execution_count": 18,
      "outputs": []
    },
    {
      "cell_type": "markdown",
      "metadata": {
        "id": "N-S0uoQWm0h5"
      },
      "source": [
        "**Task 1:** Using the above `wrangle` function to read `train_features.csv` and `train_labels.csv` into the DataFrame `df`, and `test_features.csv` into the DataFrame `X_test`."
      ]
    },
    {
      "cell_type": "code",
      "source": [
        "import pandas as pd\n",
        "df = wrangle(fm_path,tv_path)"
      ],
      "metadata": {
        "id": "reg18cx4lSdy"
      },
      "execution_count": 19,
      "outputs": []
    },
    {
      "cell_type": "code",
      "metadata": {
        "id": "HBcLs5Xzm0h5"
      },
      "source": [
        "X_test = wrangle(test_path)"
      ],
      "execution_count": 20,
      "outputs": []
    },
    {
      "cell_type": "markdown",
      "metadata": {
        "id": "RP4NbcVHm0h5"
      },
      "source": [
        "# II. Split Data\n",
        "\n",
        "**Task 2:** Split your DataFrame `df` into a feature matrix `X` and the target vector `y`. You want to predict `'status_group'`.\n",
        "\n",
        "**Note:** You won't need to do a train-test split because you'll use cross-validation instead."
      ]
    },
    {
      "cell_type": "code",
      "metadata": {
        "id": "V0KSJGwRm0h6"
      },
      "source": [
        "X = df.drop('status_group',axis=1)\n",
        "y = df['status_group']"
      ],
      "execution_count": 21,
      "outputs": []
    },
    {
      "cell_type": "code",
      "source": [
        "from sklearn.model_selection import train_test_split\n",
        "X_train, X_val = train_test_split(X,train_size=0.80,random_state=41)\n",
        "y_train, y_val = train_test_split(y,train_size=0.80,random_state=41)"
      ],
      "metadata": {
        "id": "BQnUcViRx-KR"
      },
      "execution_count": 23,
      "outputs": []
    },
    {
      "cell_type": "markdown",
      "metadata": {
        "id": "xGEY6cbCm0h6"
      },
      "source": [
        "# III. Establish Baseline\n",
        "\n",
        "**Task 3:** Since this is a **classification** problem, you should establish a baseline accuracy score. Figure out what is the majority class in `y_train` and what percentage of your training observations it represents."
      ]
    },
    {
      "cell_type": "code",
      "metadata": {
        "id": "Ss4P4Y3km0h6",
        "outputId": "656f8689-56d6-4b73-d2fb-6327ba1577a2",
        "colab": {
          "base_uri": "https://localhost:8080/"
        }
      },
      "source": [
        "baseline_acc = y.value_counts(normalize=True)[0]\n",
        "print('Baseline Accuracy Score:', baseline_acc)"
      ],
      "execution_count": 10,
      "outputs": [
        {
          "output_type": "stream",
          "name": "stdout",
          "text": [
            "Baseline Accuracy Score: 0.5430765993265994\n"
          ]
        }
      ]
    },
    {
      "cell_type": "markdown",
      "metadata": {
        "id": "d-U85Sa0m0h6"
      },
      "source": [
        "# IV. Build Models\n",
        "\n",
        "**Task 4:** Build a `Pipeline` named `clf_dt`. Your `Pipeline` should include:\n",
        "\n",
        "- an `OrdinalEncoder` transformer for categorical features.\n",
        "- a `SimpleImputer` transformer fot missing values.\n",
        "- a `DecisionTreeClassifier` Predictor.\n",
        "\n",
        "**Note:** Do not train `clf_dt`. You'll do that in a subsequent task."
      ]
    },
    {
      "cell_type": "code",
      "metadata": {
        "id": "g-N98p5Em0h7"
      },
      "source": [
        "from sklearn.pipeline import make_pipeline\n",
        "from sklearn.impute import SimpleImputer\n",
        "from sklearn.preprocessing import StandardScaler\n",
        "import category_encoders as ce\n",
        "from sklearn.tree import DecisionTreeClassifier\n",
        "clf_dt = make_pipeline(ce.OrdinalEncoder(),SimpleImputer(strategy='median'),StandardScaler(),DecisionTreeClassifier(random_state=41,max_depth=15))"
      ],
      "execution_count": 12,
      "outputs": []
    },
    {
      "cell_type": "markdown",
      "metadata": {
        "id": "91L7lE6cm0h7"
      },
      "source": [
        "**Task 5:** Build a `Pipeline` named `clf_rf`. Your `Pipeline` should include:\n",
        "\n",
        "- an `OrdinalEncoder` transformer for categorical features.\n",
        "- a `SimpleImputer` transformer fot missing values.\n",
        "- a `RandomForestClassifier` predictor.\n",
        "\n",
        "**Note:** Do not train `clf_rf`. You'll do that in a subsequent task."
      ]
    },
    {
      "cell_type": "code",
      "metadata": {
        "id": "wUYGLlNPm0h7"
      },
      "source": [
        "from sklearn.ensemble import RandomForestClassifier\n",
        "clf_rf = make_pipeline(ce.OrdinalEncoder(),SimpleImputer(strategy='median'),StandardScaler(),\n",
        "                       RandomForestClassifier(max_features=10,n_estimators=40,n_jobs=-1,random_state=41))"
      ],
      "execution_count": 38,
      "outputs": []
    },
    {
      "cell_type": "markdown",
      "metadata": {
        "id": "CvFFqHk8m0h7"
      },
      "source": [
        "# V. Check Metrics\n",
        "\n",
        "**Task 6:** Evaluate the performance of both of your classifiers using k-fold cross-validation."
      ]
    },
    {
      "cell_type": "code",
      "metadata": {
        "id": "8Ia7v4v4m0h7"
      },
      "source": [
        "from sklearn.model_selection import cross_val_score\n",
        "\n",
        "cv_scores_dt = cross_val_score(clf_dt,X_train,y_train,cv=3,scoring='accuracy')\n",
        "\n",
        "\n",
        "cv_scores_rf = cross_val_score(clf_rf,X_train,y_train,cv=3,scoring='accuracy')"
      ],
      "execution_count": 39,
      "outputs": []
    },
    {
      "cell_type": "code",
      "source": [
        "clf_rf.fit(X_train,y_train)"
      ],
      "metadata": {
        "id": "8x4l0u72BWcm",
        "outputId": "332f09fe-f60b-4681-eca7-e3f60e50a6d6",
        "colab": {
          "base_uri": "https://localhost:8080/",
          "height": 194
        }
      },
      "execution_count": 43,
      "outputs": [
        {
          "output_type": "execute_result",
          "data": {
            "text/plain": [
              "Pipeline(steps=[('ordinalencoder',\n",
              "                 OrdinalEncoder(cols=['basin', 'region', 'public_meeting',\n",
              "                                      'scheme_management', 'permit',\n",
              "                                      'extraction_type',\n",
              "                                      'extraction_type_group',\n",
              "                                      'extraction_type_class', 'management',\n",
              "                                      'management_group', 'payment',\n",
              "                                      'payment_type', 'water_quality',\n",
              "                                      'quality_group', 'quantity', 'source',\n",
              "                                      'source_type', 'source_class',\n",
              "                                      'waterpoint_type',\n",
              "                                      'waterpoin...\n",
              "dtype: int64},\n",
              "                                         {'col': 'waterpoint_type_group',\n",
              "                                          'data_type': dtype('O'),\n",
              "                                          'mapping': communal standpipe    1\n",
              "improved spring       2\n",
              "hand pump             3\n",
              "other                 4\n",
              "cattle trough         5\n",
              "dam                   6\n",
              "NaN                  -2\n",
              "dtype: int64}])),\n",
              "                ('simpleimputer', SimpleImputer(strategy='median')),\n",
              "                ('standardscaler', StandardScaler()),\n",
              "                ('randomforestclassifier',\n",
              "                 RandomForestClassifier(max_features=10, n_estimators=40,\n",
              "                                        n_jobs=-1, random_state=41))])"
            ],
            "text/html": [
              "<style>#sk-container-id-2 {color: black;background-color: white;}#sk-container-id-2 pre{padding: 0;}#sk-container-id-2 div.sk-toggleable {background-color: white;}#sk-container-id-2 label.sk-toggleable__label {cursor: pointer;display: block;width: 100%;margin-bottom: 0;padding: 0.3em;box-sizing: border-box;text-align: center;}#sk-container-id-2 label.sk-toggleable__label-arrow:before {content: \"▸\";float: left;margin-right: 0.25em;color: #696969;}#sk-container-id-2 label.sk-toggleable__label-arrow:hover:before {color: black;}#sk-container-id-2 div.sk-estimator:hover label.sk-toggleable__label-arrow:before {color: black;}#sk-container-id-2 div.sk-toggleable__content {max-height: 0;max-width: 0;overflow: hidden;text-align: left;background-color: #f0f8ff;}#sk-container-id-2 div.sk-toggleable__content pre {margin: 0.2em;color: black;border-radius: 0.25em;background-color: #f0f8ff;}#sk-container-id-2 input.sk-toggleable__control:checked~div.sk-toggleable__content {max-height: 200px;max-width: 100%;overflow: auto;}#sk-container-id-2 input.sk-toggleable__control:checked~label.sk-toggleable__label-arrow:before {content: \"▾\";}#sk-container-id-2 div.sk-estimator input.sk-toggleable__control:checked~label.sk-toggleable__label {background-color: #d4ebff;}#sk-container-id-2 div.sk-label input.sk-toggleable__control:checked~label.sk-toggleable__label {background-color: #d4ebff;}#sk-container-id-2 input.sk-hidden--visually {border: 0;clip: rect(1px 1px 1px 1px);clip: rect(1px, 1px, 1px, 1px);height: 1px;margin: -1px;overflow: hidden;padding: 0;position: absolute;width: 1px;}#sk-container-id-2 div.sk-estimator {font-family: monospace;background-color: #f0f8ff;border: 1px dotted black;border-radius: 0.25em;box-sizing: border-box;margin-bottom: 0.5em;}#sk-container-id-2 div.sk-estimator:hover {background-color: #d4ebff;}#sk-container-id-2 div.sk-parallel-item::after {content: \"\";width: 100%;border-bottom: 1px solid gray;flex-grow: 1;}#sk-container-id-2 div.sk-label:hover label.sk-toggleable__label {background-color: #d4ebff;}#sk-container-id-2 div.sk-serial::before {content: \"\";position: absolute;border-left: 1px solid gray;box-sizing: border-box;top: 0;bottom: 0;left: 50%;z-index: 0;}#sk-container-id-2 div.sk-serial {display: flex;flex-direction: column;align-items: center;background-color: white;padding-right: 0.2em;padding-left: 0.2em;position: relative;}#sk-container-id-2 div.sk-item {position: relative;z-index: 1;}#sk-container-id-2 div.sk-parallel {display: flex;align-items: stretch;justify-content: center;background-color: white;position: relative;}#sk-container-id-2 div.sk-item::before, #sk-container-id-2 div.sk-parallel-item::before {content: \"\";position: absolute;border-left: 1px solid gray;box-sizing: border-box;top: 0;bottom: 0;left: 50%;z-index: -1;}#sk-container-id-2 div.sk-parallel-item {display: flex;flex-direction: column;z-index: 1;position: relative;background-color: white;}#sk-container-id-2 div.sk-parallel-item:first-child::after {align-self: flex-end;width: 50%;}#sk-container-id-2 div.sk-parallel-item:last-child::after {align-self: flex-start;width: 50%;}#sk-container-id-2 div.sk-parallel-item:only-child::after {width: 0;}#sk-container-id-2 div.sk-dashed-wrapped {border: 1px dashed gray;margin: 0 0.4em 0.5em 0.4em;box-sizing: border-box;padding-bottom: 0.4em;background-color: white;}#sk-container-id-2 div.sk-label label {font-family: monospace;font-weight: bold;display: inline-block;line-height: 1.2em;}#sk-container-id-2 div.sk-label-container {text-align: center;}#sk-container-id-2 div.sk-container {/* jupyter's `normalize.less` sets `[hidden] { display: none; }` but bootstrap.min.css set `[hidden] { display: none !important; }` so we also need the `!important` here to be able to override the default hidden behavior on the sphinx rendered scikit-learn.org. See: https://github.com/scikit-learn/scikit-learn/issues/21755 */display: inline-block !important;position: relative;}#sk-container-id-2 div.sk-text-repr-fallback {display: none;}</style><div id=\"sk-container-id-2\" class=\"sk-top-container\"><div class=\"sk-text-repr-fallback\"><pre>Pipeline(steps=[(&#x27;ordinalencoder&#x27;,\n",
              "                 OrdinalEncoder(cols=[&#x27;basin&#x27;, &#x27;region&#x27;, &#x27;public_meeting&#x27;,\n",
              "                                      &#x27;scheme_management&#x27;, &#x27;permit&#x27;,\n",
              "                                      &#x27;extraction_type&#x27;,\n",
              "                                      &#x27;extraction_type_group&#x27;,\n",
              "                                      &#x27;extraction_type_class&#x27;, &#x27;management&#x27;,\n",
              "                                      &#x27;management_group&#x27;, &#x27;payment&#x27;,\n",
              "                                      &#x27;payment_type&#x27;, &#x27;water_quality&#x27;,\n",
              "                                      &#x27;quality_group&#x27;, &#x27;quantity&#x27;, &#x27;source&#x27;,\n",
              "                                      &#x27;source_type&#x27;, &#x27;source_class&#x27;,\n",
              "                                      &#x27;waterpoint_type&#x27;,\n",
              "                                      &#x27;waterpoin...\n",
              "dtype: int64},\n",
              "                                         {&#x27;col&#x27;: &#x27;waterpoint_type_group&#x27;,\n",
              "                                          &#x27;data_type&#x27;: dtype(&#x27;O&#x27;),\n",
              "                                          &#x27;mapping&#x27;: communal standpipe    1\n",
              "improved spring       2\n",
              "hand pump             3\n",
              "other                 4\n",
              "cattle trough         5\n",
              "dam                   6\n",
              "NaN                  -2\n",
              "dtype: int64}])),\n",
              "                (&#x27;simpleimputer&#x27;, SimpleImputer(strategy=&#x27;median&#x27;)),\n",
              "                (&#x27;standardscaler&#x27;, StandardScaler()),\n",
              "                (&#x27;randomforestclassifier&#x27;,\n",
              "                 RandomForestClassifier(max_features=10, n_estimators=40,\n",
              "                                        n_jobs=-1, random_state=41))])</pre><b>In a Jupyter environment, please rerun this cell to show the HTML representation or trust the notebook. <br />On GitHub, the HTML representation is unable to render, please try loading this page with nbviewer.org.</b></div><div class=\"sk-container\" hidden><div class=\"sk-item sk-dashed-wrapped\"><div class=\"sk-label-container\"><div class=\"sk-label sk-toggleable\"><input class=\"sk-toggleable__control sk-hidden--visually\" id=\"sk-estimator-id-7\" type=\"checkbox\" ><label for=\"sk-estimator-id-7\" class=\"sk-toggleable__label sk-toggleable__label-arrow\">Pipeline</label><div class=\"sk-toggleable__content\"><pre>Pipeline(steps=[(&#x27;ordinalencoder&#x27;,\n",
              "                 OrdinalEncoder(cols=[&#x27;basin&#x27;, &#x27;region&#x27;, &#x27;public_meeting&#x27;,\n",
              "                                      &#x27;scheme_management&#x27;, &#x27;permit&#x27;,\n",
              "                                      &#x27;extraction_type&#x27;,\n",
              "                                      &#x27;extraction_type_group&#x27;,\n",
              "                                      &#x27;extraction_type_class&#x27;, &#x27;management&#x27;,\n",
              "                                      &#x27;management_group&#x27;, &#x27;payment&#x27;,\n",
              "                                      &#x27;payment_type&#x27;, &#x27;water_quality&#x27;,\n",
              "                                      &#x27;quality_group&#x27;, &#x27;quantity&#x27;, &#x27;source&#x27;,\n",
              "                                      &#x27;source_type&#x27;, &#x27;source_class&#x27;,\n",
              "                                      &#x27;waterpoint_type&#x27;,\n",
              "                                      &#x27;waterpoin...\n",
              "dtype: int64},\n",
              "                                         {&#x27;col&#x27;: &#x27;waterpoint_type_group&#x27;,\n",
              "                                          &#x27;data_type&#x27;: dtype(&#x27;O&#x27;),\n",
              "                                          &#x27;mapping&#x27;: communal standpipe    1\n",
              "improved spring       2\n",
              "hand pump             3\n",
              "other                 4\n",
              "cattle trough         5\n",
              "dam                   6\n",
              "NaN                  -2\n",
              "dtype: int64}])),\n",
              "                (&#x27;simpleimputer&#x27;, SimpleImputer(strategy=&#x27;median&#x27;)),\n",
              "                (&#x27;standardscaler&#x27;, StandardScaler()),\n",
              "                (&#x27;randomforestclassifier&#x27;,\n",
              "                 RandomForestClassifier(max_features=10, n_estimators=40,\n",
              "                                        n_jobs=-1, random_state=41))])</pre></div></div></div><div class=\"sk-serial\"><div class=\"sk-item\"><div class=\"sk-estimator sk-toggleable\"><input class=\"sk-toggleable__control sk-hidden--visually\" id=\"sk-estimator-id-8\" type=\"checkbox\" ><label for=\"sk-estimator-id-8\" class=\"sk-toggleable__label sk-toggleable__label-arrow\">OrdinalEncoder</label><div class=\"sk-toggleable__content\"><pre>OrdinalEncoder(cols=[&#x27;basin&#x27;, &#x27;region&#x27;, &#x27;public_meeting&#x27;, &#x27;scheme_management&#x27;,\n",
              "                     &#x27;permit&#x27;, &#x27;extraction_type&#x27;, &#x27;extraction_type_group&#x27;,\n",
              "                     &#x27;extraction_type_class&#x27;, &#x27;management&#x27;, &#x27;management_group&#x27;,\n",
              "                     &#x27;payment&#x27;, &#x27;payment_type&#x27;, &#x27;water_quality&#x27;,\n",
              "                     &#x27;quality_group&#x27;, &#x27;quantity&#x27;, &#x27;source&#x27;, &#x27;source_type&#x27;,\n",
              "                     &#x27;source_class&#x27;, &#x27;waterpoint_type&#x27;,\n",
              "                     &#x27;waterpoint_type_group&#x27;],\n",
              "               mapping=[{&#x27;col&#x27;: &#x27;ba...\n",
              "                         &#x27;mapping&#x27;: groundwater    1\n",
              "surface        2\n",
              "unknown        3\n",
              "NaN           -2\n",
              "dtype: int64},\n",
              "                        {&#x27;col&#x27;: &#x27;waterpoint_type&#x27;, &#x27;data_type&#x27;: dtype(&#x27;O&#x27;),\n",
              "                         &#x27;mapping&#x27;: communal standpipe             1\n",
              "communal standpipe multiple    2\n",
              "improved spring                3\n",
              "hand pump                      4\n",
              "other                          5\n",
              "cattle trough                  6\n",
              "dam                            7\n",
              "NaN                           -2\n",
              "dtype: int64},\n",
              "                        {&#x27;col&#x27;: &#x27;waterpoint_type_group&#x27;,\n",
              "                         &#x27;data_type&#x27;: dtype(&#x27;O&#x27;),\n",
              "                         &#x27;mapping&#x27;: communal standpipe    1\n",
              "improved spring       2\n",
              "hand pump             3\n",
              "other                 4\n",
              "cattle trough         5\n",
              "dam                   6\n",
              "NaN                  -2\n",
              "dtype: int64}])</pre></div></div></div><div class=\"sk-item\"><div class=\"sk-estimator sk-toggleable\"><input class=\"sk-toggleable__control sk-hidden--visually\" id=\"sk-estimator-id-9\" type=\"checkbox\" ><label for=\"sk-estimator-id-9\" class=\"sk-toggleable__label sk-toggleable__label-arrow\">SimpleImputer</label><div class=\"sk-toggleable__content\"><pre>SimpleImputer(strategy=&#x27;median&#x27;)</pre></div></div></div><div class=\"sk-item\"><div class=\"sk-estimator sk-toggleable\"><input class=\"sk-toggleable__control sk-hidden--visually\" id=\"sk-estimator-id-10\" type=\"checkbox\" ><label for=\"sk-estimator-id-10\" class=\"sk-toggleable__label sk-toggleable__label-arrow\">StandardScaler</label><div class=\"sk-toggleable__content\"><pre>StandardScaler()</pre></div></div></div><div class=\"sk-item\"><div class=\"sk-estimator sk-toggleable\"><input class=\"sk-toggleable__control sk-hidden--visually\" id=\"sk-estimator-id-11\" type=\"checkbox\" ><label for=\"sk-estimator-id-11\" class=\"sk-toggleable__label sk-toggleable__label-arrow\">RandomForestClassifier</label><div class=\"sk-toggleable__content\"><pre>RandomForestClassifier(max_features=10, n_estimators=40, n_jobs=-1,\n",
              "                       random_state=41)</pre></div></div></div></div></div></div></div>"
            ]
          },
          "metadata": {},
          "execution_count": 43
        }
      ]
    },
    {
      "cell_type": "code",
      "metadata": {
        "id": "t8K5WrgSm0h8",
        "outputId": "018f9438-49c6-46a3-8a34-babfb724c5a1",
        "colab": {
          "base_uri": "https://localhost:8080/"
        }
      },
      "source": [
        "print('CV scores DecisionTreeClassifier')\n",
        "print(cv_scores_dt)\n",
        "print('Mean CV accuracy score:', cv_scores_dt.mean())\n",
        "print('STD CV accuracy score:', cv_scores_dt.std())"
      ],
      "execution_count": 25,
      "outputs": [
        {
          "output_type": "stream",
          "name": "stdout",
          "text": [
            "CV scores DecisionTreeClassifier\n",
            "[0.74636995 0.75607639 0.74621212]\n",
            "Mean CV accuracy score: 0.7495528198653197\n",
            "STD CV accuracy score: 0.004613309877999147\n"
          ]
        }
      ]
    },
    {
      "cell_type": "code",
      "metadata": {
        "id": "DwC5Mvpmm0h8",
        "outputId": "cb2e02a6-ce35-478d-bae4-26b3a2f188a5",
        "colab": {
          "base_uri": "https://localhost:8080/"
        }
      },
      "source": [
        "print('CV score RandomForestClassifier')\n",
        "print(cv_scores_rf)\n",
        "print('Mean CV accuracy score:', cv_scores_rf.mean())\n",
        "print('STD CV accuracy score:', cv_scores_rf.std())"
      ],
      "execution_count": 40,
      "outputs": [
        {
          "output_type": "stream",
          "name": "stdout",
          "text": [
            "CV score RandomForestClassifier\n",
            "[0.78653725 0.7890625  0.78282828]\n",
            "Mean CV accuracy score: 0.7861426767676768\n",
            "STD CV accuracy score: 0.0025603555050281446\n"
          ]
        }
      ]
    },
    {
      "cell_type": "markdown",
      "metadata": {
        "id": "_YoZg6gxm0h8"
      },
      "source": [
        "# VI. Tune Model\n",
        "\n",
        "**Task 7:** Choose the best performing of your two models and tune its hyperparameters using a `RandomizedSearchCV` named `model`. Make sure that you include cross-validation and that `n_iter` is set to at least `25`.\n",
        "\n",
        "**Note:** If you're not sure which hyperparameters to tune, check the notes from today's guided project and the `sklearn` documentation."
      ]
    },
    {
      "cell_type": "code",
      "metadata": {
        "id": "5lghp32sm0h8"
      },
      "source": [
        "from sklearn.model_selection import RandomizedSearchCV\n",
        "param_distributions = {'randomforestclassifier__n_estimators':[20,30,40],'randomforestclassifier__max_features':[10,15,20]}\n",
        "model = RandomizedSearchCV(clf_rf,param_distributions=param_distributions,n_iter=25,cv=3,scoring='accuracy',n_jobs=-1)"
      ],
      "execution_count": 35,
      "outputs": []
    },
    {
      "cell_type": "code",
      "source": [
        "model.fit(X_train,y_train)"
      ],
      "metadata": {
        "id": "fzo9NIs3-Jfo",
        "outputId": "41855a39-37f2-43db-d270-6168c09d2aaa",
        "colab": {
          "base_uri": "https://localhost:8080/",
          "height": 275
        }
      },
      "execution_count": 36,
      "outputs": [
        {
          "output_type": "stream",
          "name": "stderr",
          "text": [
            "/usr/local/lib/python3.10/dist-packages/sklearn/model_selection/_search.py:305: UserWarning: The total space of parameters 9 is smaller than n_iter=25. Running 9 iterations. For exhaustive searches, use GridSearchCV.\n",
            "  warnings.warn(\n"
          ]
        },
        {
          "output_type": "execute_result",
          "data": {
            "text/plain": [
              "RandomizedSearchCV(cv=3,\n",
              "                   estimator=Pipeline(steps=[('ordinalencoder',\n",
              "                                              OrdinalEncoder()),\n",
              "                                             ('simpleimputer',\n",
              "                                              SimpleImputer(strategy='median')),\n",
              "                                             ('standardscaler',\n",
              "                                              StandardScaler()),\n",
              "                                             ('randomforestclassifier',\n",
              "                                              RandomForestClassifier())]),\n",
              "                   n_iter=25, n_jobs=-1,\n",
              "                   param_distributions={'randomforestclassifier__max_features': [10,\n",
              "                                                                                 15,\n",
              "                                                                                 20],\n",
              "                                        'randomforestclassifier__n_estimators': [20,\n",
              "                                                                                 30,\n",
              "                                                                                 40]},\n",
              "                   scoring='accuracy')"
            ],
            "text/html": [
              "<style>#sk-container-id-1 {color: black;background-color: white;}#sk-container-id-1 pre{padding: 0;}#sk-container-id-1 div.sk-toggleable {background-color: white;}#sk-container-id-1 label.sk-toggleable__label {cursor: pointer;display: block;width: 100%;margin-bottom: 0;padding: 0.3em;box-sizing: border-box;text-align: center;}#sk-container-id-1 label.sk-toggleable__label-arrow:before {content: \"▸\";float: left;margin-right: 0.25em;color: #696969;}#sk-container-id-1 label.sk-toggleable__label-arrow:hover:before {color: black;}#sk-container-id-1 div.sk-estimator:hover label.sk-toggleable__label-arrow:before {color: black;}#sk-container-id-1 div.sk-toggleable__content {max-height: 0;max-width: 0;overflow: hidden;text-align: left;background-color: #f0f8ff;}#sk-container-id-1 div.sk-toggleable__content pre {margin: 0.2em;color: black;border-radius: 0.25em;background-color: #f0f8ff;}#sk-container-id-1 input.sk-toggleable__control:checked~div.sk-toggleable__content {max-height: 200px;max-width: 100%;overflow: auto;}#sk-container-id-1 input.sk-toggleable__control:checked~label.sk-toggleable__label-arrow:before {content: \"▾\";}#sk-container-id-1 div.sk-estimator input.sk-toggleable__control:checked~label.sk-toggleable__label {background-color: #d4ebff;}#sk-container-id-1 div.sk-label input.sk-toggleable__control:checked~label.sk-toggleable__label {background-color: #d4ebff;}#sk-container-id-1 input.sk-hidden--visually {border: 0;clip: rect(1px 1px 1px 1px);clip: rect(1px, 1px, 1px, 1px);height: 1px;margin: -1px;overflow: hidden;padding: 0;position: absolute;width: 1px;}#sk-container-id-1 div.sk-estimator {font-family: monospace;background-color: #f0f8ff;border: 1px dotted black;border-radius: 0.25em;box-sizing: border-box;margin-bottom: 0.5em;}#sk-container-id-1 div.sk-estimator:hover {background-color: #d4ebff;}#sk-container-id-1 div.sk-parallel-item::after {content: \"\";width: 100%;border-bottom: 1px solid gray;flex-grow: 1;}#sk-container-id-1 div.sk-label:hover label.sk-toggleable__label {background-color: #d4ebff;}#sk-container-id-1 div.sk-serial::before {content: \"\";position: absolute;border-left: 1px solid gray;box-sizing: border-box;top: 0;bottom: 0;left: 50%;z-index: 0;}#sk-container-id-1 div.sk-serial {display: flex;flex-direction: column;align-items: center;background-color: white;padding-right: 0.2em;padding-left: 0.2em;position: relative;}#sk-container-id-1 div.sk-item {position: relative;z-index: 1;}#sk-container-id-1 div.sk-parallel {display: flex;align-items: stretch;justify-content: center;background-color: white;position: relative;}#sk-container-id-1 div.sk-item::before, #sk-container-id-1 div.sk-parallel-item::before {content: \"\";position: absolute;border-left: 1px solid gray;box-sizing: border-box;top: 0;bottom: 0;left: 50%;z-index: -1;}#sk-container-id-1 div.sk-parallel-item {display: flex;flex-direction: column;z-index: 1;position: relative;background-color: white;}#sk-container-id-1 div.sk-parallel-item:first-child::after {align-self: flex-end;width: 50%;}#sk-container-id-1 div.sk-parallel-item:last-child::after {align-self: flex-start;width: 50%;}#sk-container-id-1 div.sk-parallel-item:only-child::after {width: 0;}#sk-container-id-1 div.sk-dashed-wrapped {border: 1px dashed gray;margin: 0 0.4em 0.5em 0.4em;box-sizing: border-box;padding-bottom: 0.4em;background-color: white;}#sk-container-id-1 div.sk-label label {font-family: monospace;font-weight: bold;display: inline-block;line-height: 1.2em;}#sk-container-id-1 div.sk-label-container {text-align: center;}#sk-container-id-1 div.sk-container {/* jupyter's `normalize.less` sets `[hidden] { display: none; }` but bootstrap.min.css set `[hidden] { display: none !important; }` so we also need the `!important` here to be able to override the default hidden behavior on the sphinx rendered scikit-learn.org. See: https://github.com/scikit-learn/scikit-learn/issues/21755 */display: inline-block !important;position: relative;}#sk-container-id-1 div.sk-text-repr-fallback {display: none;}</style><div id=\"sk-container-id-1\" class=\"sk-top-container\"><div class=\"sk-text-repr-fallback\"><pre>RandomizedSearchCV(cv=3,\n",
              "                   estimator=Pipeline(steps=[(&#x27;ordinalencoder&#x27;,\n",
              "                                              OrdinalEncoder()),\n",
              "                                             (&#x27;simpleimputer&#x27;,\n",
              "                                              SimpleImputer(strategy=&#x27;median&#x27;)),\n",
              "                                             (&#x27;standardscaler&#x27;,\n",
              "                                              StandardScaler()),\n",
              "                                             (&#x27;randomforestclassifier&#x27;,\n",
              "                                              RandomForestClassifier())]),\n",
              "                   n_iter=25, n_jobs=-1,\n",
              "                   param_distributions={&#x27;randomforestclassifier__max_features&#x27;: [10,\n",
              "                                                                                 15,\n",
              "                                                                                 20],\n",
              "                                        &#x27;randomforestclassifier__n_estimators&#x27;: [20,\n",
              "                                                                                 30,\n",
              "                                                                                 40]},\n",
              "                   scoring=&#x27;accuracy&#x27;)</pre><b>In a Jupyter environment, please rerun this cell to show the HTML representation or trust the notebook. <br />On GitHub, the HTML representation is unable to render, please try loading this page with nbviewer.org.</b></div><div class=\"sk-container\" hidden><div class=\"sk-item sk-dashed-wrapped\"><div class=\"sk-label-container\"><div class=\"sk-label sk-toggleable\"><input class=\"sk-toggleable__control sk-hidden--visually\" id=\"sk-estimator-id-1\" type=\"checkbox\" ><label for=\"sk-estimator-id-1\" class=\"sk-toggleable__label sk-toggleable__label-arrow\">RandomizedSearchCV</label><div class=\"sk-toggleable__content\"><pre>RandomizedSearchCV(cv=3,\n",
              "                   estimator=Pipeline(steps=[(&#x27;ordinalencoder&#x27;,\n",
              "                                              OrdinalEncoder()),\n",
              "                                             (&#x27;simpleimputer&#x27;,\n",
              "                                              SimpleImputer(strategy=&#x27;median&#x27;)),\n",
              "                                             (&#x27;standardscaler&#x27;,\n",
              "                                              StandardScaler()),\n",
              "                                             (&#x27;randomforestclassifier&#x27;,\n",
              "                                              RandomForestClassifier())]),\n",
              "                   n_iter=25, n_jobs=-1,\n",
              "                   param_distributions={&#x27;randomforestclassifier__max_features&#x27;: [10,\n",
              "                                                                                 15,\n",
              "                                                                                 20],\n",
              "                                        &#x27;randomforestclassifier__n_estimators&#x27;: [20,\n",
              "                                                                                 30,\n",
              "                                                                                 40]},\n",
              "                   scoring=&#x27;accuracy&#x27;)</pre></div></div></div><div class=\"sk-parallel\"><div class=\"sk-parallel-item\"><div class=\"sk-item\"><div class=\"sk-label-container\"><div class=\"sk-label sk-toggleable\"><input class=\"sk-toggleable__control sk-hidden--visually\" id=\"sk-estimator-id-2\" type=\"checkbox\" ><label for=\"sk-estimator-id-2\" class=\"sk-toggleable__label sk-toggleable__label-arrow\">estimator: Pipeline</label><div class=\"sk-toggleable__content\"><pre>Pipeline(steps=[(&#x27;ordinalencoder&#x27;, OrdinalEncoder()),\n",
              "                (&#x27;simpleimputer&#x27;, SimpleImputer(strategy=&#x27;median&#x27;)),\n",
              "                (&#x27;standardscaler&#x27;, StandardScaler()),\n",
              "                (&#x27;randomforestclassifier&#x27;, RandomForestClassifier())])</pre></div></div></div><div class=\"sk-serial\"><div class=\"sk-item\"><div class=\"sk-serial\"><div class=\"sk-item\"><div class=\"sk-estimator sk-toggleable\"><input class=\"sk-toggleable__control sk-hidden--visually\" id=\"sk-estimator-id-3\" type=\"checkbox\" ><label for=\"sk-estimator-id-3\" class=\"sk-toggleable__label sk-toggleable__label-arrow\">OrdinalEncoder</label><div class=\"sk-toggleable__content\"><pre>OrdinalEncoder()</pre></div></div></div><div class=\"sk-item\"><div class=\"sk-estimator sk-toggleable\"><input class=\"sk-toggleable__control sk-hidden--visually\" id=\"sk-estimator-id-4\" type=\"checkbox\" ><label for=\"sk-estimator-id-4\" class=\"sk-toggleable__label sk-toggleable__label-arrow\">SimpleImputer</label><div class=\"sk-toggleable__content\"><pre>SimpleImputer(strategy=&#x27;median&#x27;)</pre></div></div></div><div class=\"sk-item\"><div class=\"sk-estimator sk-toggleable\"><input class=\"sk-toggleable__control sk-hidden--visually\" id=\"sk-estimator-id-5\" type=\"checkbox\" ><label for=\"sk-estimator-id-5\" class=\"sk-toggleable__label sk-toggleable__label-arrow\">StandardScaler</label><div class=\"sk-toggleable__content\"><pre>StandardScaler()</pre></div></div></div><div class=\"sk-item\"><div class=\"sk-estimator sk-toggleable\"><input class=\"sk-toggleable__control sk-hidden--visually\" id=\"sk-estimator-id-6\" type=\"checkbox\" ><label for=\"sk-estimator-id-6\" class=\"sk-toggleable__label sk-toggleable__label-arrow\">RandomForestClassifier</label><div class=\"sk-toggleable__content\"><pre>RandomForestClassifier()</pre></div></div></div></div></div></div></div></div></div></div></div></div>"
            ]
          },
          "metadata": {},
          "execution_count": 36
        }
      ]
    },
    {
      "cell_type": "markdown",
      "metadata": {
        "id": "nZ_ZTO-gm0h9"
      },
      "source": [
        "**Task 8:** Print out the best score and best params for `model`."
      ]
    },
    {
      "cell_type": "code",
      "metadata": {
        "id": "DbAXBEbYm0h9",
        "outputId": "e6085f21-bdaa-47db-9cde-69561ede0696",
        "colab": {
          "base_uri": "https://localhost:8080/"
        }
      },
      "source": [
        "best_score = model.best_score_\n",
        "best_params = model.best_params_\n",
        "\n",
        "print('Best score for `model`:', best_score)\n",
        "print('Best params for `model`:', best_params)"
      ],
      "execution_count": 37,
      "outputs": [
        {
          "output_type": "stream",
          "name": "stdout",
          "text": [
            "Best score for `model`: 0.7866687710437711\n",
            "Best params for `model`: {'randomforestclassifier__n_estimators': 40, 'randomforestclassifier__max_features': 10}\n"
          ]
        }
      ]
    },
    {
      "cell_type": "code",
      "source": [
        "y_pred = clf_rf.predict(X_test)"
      ],
      "metadata": {
        "id": "-Zd0r8A7Axa-"
      },
      "execution_count": 44,
      "outputs": []
    },
    {
      "cell_type": "markdown",
      "metadata": {
        "id": "0Q60ucrGm0h9"
      },
      "source": [
        "# Communicate Results"
      ]
    },
    {
      "cell_type": "markdown",
      "metadata": {
        "id": "QQEztTb2m0h9"
      },
      "source": [
        "**Task 9:** Create a DataFrame `submission` whose index is the same as `X_test` and that has one column `'status_group'` with your predictions. Next, save this DataFrame as a CSV file and upload your submissions to our competition site.\n",
        "\n",
        "**Note:** Check the `sample_submission.csv` file on the competition website to make sure your submissions follows the same formatting."
      ]
    },
    {
      "cell_type": "code",
      "metadata": {
        "id": "Teny1YdDm0h9"
      },
      "source": [
        "\n",
        "sample_submission = pd.read_csv(\"/content/drive/MyDrive/Tanzania_Data_Set/tanzania sample solution.csv\")\n",
        "submission = pd.DataFrame({'S.No.':sample_submission['S.No.']})\n",
        "submission['status_group'] = y_pred\n",
        "legends = {'functional' : '0', 'functional needs repair' : '1', 'non functional' : '2'}\n",
        "submission['status_group'] = submission['status_group'].map(legends)\n",
        "submission.to_csv('/content/drive/MyDrive/Tanzania_Data_Set/submissionRF2.csv')"
      ],
      "execution_count": 48,
      "outputs": []
    }
  ]
}